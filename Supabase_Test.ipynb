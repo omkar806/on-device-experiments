{
  "nbformat": 4,
  "nbformat_minor": 0,
  "metadata": {
    "colab": {
      "provenance": [],
      "gpuType": "T4",
      "authorship_tag": "ABX9TyO40JQB/b4L6t1wQVwnmXOr",
      "include_colab_link": true
    },
    "kernelspec": {
      "name": "python3",
      "display_name": "Python 3"
    },
    "language_info": {
      "name": "python"
    },
    "accelerator": "GPU"
  },
  "cells": [
    {
      "cell_type": "markdown",
      "metadata": {
        "id": "view-in-github",
        "colab_type": "text"
      },
      "source": [
        "<a href=\"https://colab.research.google.com/github/omkar806/on-device-experiments/blob/main/Supabase_Test.ipynb\" target=\"_parent\"><img src=\"https://colab.research.google.com/assets/colab-badge.svg\" alt=\"Open In Colab\"/></a>"
      ]
    },
    {
      "cell_type": "code",
      "execution_count": 1,
      "metadata": {
        "colab": {
          "base_uri": "https://localhost:8080/"
        },
        "id": "P7WJzmvhpJZ6",
        "outputId": "97f384c0-250e-478e-da1b-bf68f27678b3"
      },
      "outputs": [
        {
          "output_type": "stream",
          "name": "stdout",
          "text": [
            "Collecting supabase==2.3.0\n",
            "  Downloading supabase-2.3.0-py3-none-any.whl (15 kB)\n",
            "Collecting fastapi==0.104.1\n",
            "  Downloading fastapi-0.104.1-py3-none-any.whl (92 kB)\n",
            "\u001b[2K     \u001b[90m━━━━━━━━━━━━━━━━━━━━━━━━━━━━━━━━━━━━━━━━\u001b[0m \u001b[32m92.9/92.9 kB\u001b[0m \u001b[31m3.7 MB/s\u001b[0m eta \u001b[36m0:00:00\u001b[0m\n",
            "\u001b[?25hCollecting gotrue<3.0,>=1.3 (from supabase==2.3.0)\n",
            "  Downloading gotrue-2.4.2-py3-none-any.whl (44 kB)\n",
            "\u001b[2K     \u001b[90m━━━━━━━━━━━━━━━━━━━━━━━━━━━━━━━━━━━━━━━━\u001b[0m \u001b[32m44.3/44.3 kB\u001b[0m \u001b[31m5.1 MB/s\u001b[0m eta \u001b[36m0:00:00\u001b[0m\n",
            "\u001b[?25hCollecting httpx<0.25.0,>=0.24.0 (from supabase==2.3.0)\n",
            "  Downloading httpx-0.24.1-py3-none-any.whl (75 kB)\n",
            "\u001b[2K     \u001b[90m━━━━━━━━━━━━━━━━━━━━━━━━━━━━━━━━━━━━━━━━\u001b[0m \u001b[32m75.4/75.4 kB\u001b[0m \u001b[31m6.2 MB/s\u001b[0m eta \u001b[36m0:00:00\u001b[0m\n",
            "\u001b[?25hCollecting postgrest<0.14.0,>=0.10.8 (from supabase==2.3.0)\n",
            "  Downloading postgrest-0.13.2-py3-none-any.whl (19 kB)\n",
            "Collecting realtime<2.0.0,>=1.0.0 (from supabase==2.3.0)\n",
            "  Downloading realtime-1.0.4-py3-none-any.whl (8.9 kB)\n",
            "Collecting storage3<0.8.0,>=0.5.3 (from supabase==2.3.0)\n",
            "  Downloading storage3-0.7.4-py3-none-any.whl (15 kB)\n",
            "Collecting supafunc<0.4.0,>=0.3.1 (from supabase==2.3.0)\n",
            "  Downloading supafunc-0.3.3-py3-none-any.whl (6.1 kB)\n",
            "Requirement already satisfied: anyio<4.0.0,>=3.7.1 in /usr/local/lib/python3.10/dist-packages (from fastapi==0.104.1) (3.7.1)\n",
            "Requirement already satisfied: pydantic!=1.8,!=1.8.1,!=2.0.0,!=2.0.1,!=2.1.0,<3.0.0,>=1.7.4 in /usr/local/lib/python3.10/dist-packages (from fastapi==0.104.1) (2.7.1)\n",
            "Collecting starlette<0.28.0,>=0.27.0 (from fastapi==0.104.1)\n",
            "  Downloading starlette-0.27.0-py3-none-any.whl (66 kB)\n",
            "\u001b[2K     \u001b[90m━━━━━━━━━━━━━━━━━━━━━━━━━━━━━━━━━━━━━━━━\u001b[0m \u001b[32m67.0/67.0 kB\u001b[0m \u001b[31m8.3 MB/s\u001b[0m eta \u001b[36m0:00:00\u001b[0m\n",
            "\u001b[?25hRequirement already satisfied: typing-extensions>=4.8.0 in /usr/local/lib/python3.10/dist-packages (from fastapi==0.104.1) (4.11.0)\n",
            "Requirement already satisfied: idna>=2.8 in /usr/local/lib/python3.10/dist-packages (from anyio<4.0.0,>=3.7.1->fastapi==0.104.1) (3.7)\n",
            "Requirement already satisfied: sniffio>=1.1 in /usr/local/lib/python3.10/dist-packages (from anyio<4.0.0,>=3.7.1->fastapi==0.104.1) (1.3.1)\n",
            "Requirement already satisfied: exceptiongroup in /usr/local/lib/python3.10/dist-packages (from anyio<4.0.0,>=3.7.1->fastapi==0.104.1) (1.2.1)\n",
            "Requirement already satisfied: certifi in /usr/local/lib/python3.10/dist-packages (from httpx<0.25.0,>=0.24.0->supabase==2.3.0) (2024.2.2)\n",
            "Collecting httpcore<0.18.0,>=0.15.0 (from httpx<0.25.0,>=0.24.0->supabase==2.3.0)\n",
            "  Downloading httpcore-0.17.3-py3-none-any.whl (74 kB)\n",
            "\u001b[2K     \u001b[90m━━━━━━━━━━━━━━━━━━━━━━━━━━━━━━━━━━━━━━━━\u001b[0m \u001b[32m74.5/74.5 kB\u001b[0m \u001b[31m6.8 MB/s\u001b[0m eta \u001b[36m0:00:00\u001b[0m\n",
            "\u001b[?25hCollecting deprecation<3.0.0,>=2.1.0 (from postgrest<0.14.0,>=0.10.8->supabase==2.3.0)\n",
            "  Downloading deprecation-2.1.0-py2.py3-none-any.whl (11 kB)\n",
            "Collecting strenum<0.5.0,>=0.4.9 (from postgrest<0.14.0,>=0.10.8->supabase==2.3.0)\n",
            "  Downloading StrEnum-0.4.15-py3-none-any.whl (8.9 kB)\n",
            "Requirement already satisfied: annotated-types>=0.4.0 in /usr/local/lib/python3.10/dist-packages (from pydantic!=1.8,!=1.8.1,!=2.0.0,!=2.0.1,!=2.1.0,<3.0.0,>=1.7.4->fastapi==0.104.1) (0.6.0)\n",
            "Requirement already satisfied: pydantic-core==2.18.2 in /usr/local/lib/python3.10/dist-packages (from pydantic!=1.8,!=1.8.1,!=2.0.0,!=2.0.1,!=2.1.0,<3.0.0,>=1.7.4->fastapi==0.104.1) (2.18.2)\n",
            "Requirement already satisfied: python-dateutil<3.0.0,>=2.8.1 in /usr/local/lib/python3.10/dist-packages (from realtime<2.0.0,>=1.0.0->supabase==2.3.0) (2.8.2)\n",
            "Collecting websockets<13,>=11 (from realtime<2.0.0,>=1.0.0->supabase==2.3.0)\n",
            "  Downloading websockets-12.0-cp310-cp310-manylinux_2_5_x86_64.manylinux1_x86_64.manylinux_2_17_x86_64.manylinux2014_x86_64.whl (130 kB)\n",
            "\u001b[2K     \u001b[90m━━━━━━━━━━━━━━━━━━━━━━━━━━━━━━━━━━━━━━━━\u001b[0m \u001b[32m130.2/130.2 kB\u001b[0m \u001b[31m10.0 MB/s\u001b[0m eta \u001b[36m0:00:00\u001b[0m\n",
            "\u001b[?25hRequirement already satisfied: packaging in /usr/local/lib/python3.10/dist-packages (from deprecation<3.0.0,>=2.1.0->postgrest<0.14.0,>=0.10.8->supabase==2.3.0) (24.0)\n",
            "Collecting h11<0.15,>=0.13 (from httpcore<0.18.0,>=0.15.0->httpx<0.25.0,>=0.24.0->supabase==2.3.0)\n",
            "  Downloading h11-0.14.0-py3-none-any.whl (58 kB)\n",
            "\u001b[2K     \u001b[90m━━━━━━━━━━━━━━━━━━━━━━━━━━━━━━━━━━━━━━━━\u001b[0m \u001b[32m58.3/58.3 kB\u001b[0m \u001b[31m7.9 MB/s\u001b[0m eta \u001b[36m0:00:00\u001b[0m\n",
            "\u001b[?25hRequirement already satisfied: six>=1.5 in /usr/local/lib/python3.10/dist-packages (from python-dateutil<3.0.0,>=2.8.1->realtime<2.0.0,>=1.0.0->supabase==2.3.0) (1.16.0)\n",
            "Installing collected packages: strenum, websockets, h11, deprecation, starlette, realtime, httpcore, httpx, fastapi, supafunc, storage3, postgrest, gotrue, supabase\n",
            "Successfully installed deprecation-2.1.0 fastapi-0.104.1 gotrue-2.4.2 h11-0.14.0 httpcore-0.17.3 httpx-0.24.1 postgrest-0.13.2 realtime-1.0.4 starlette-0.27.0 storage3-0.7.4 strenum-0.4.15 supabase-2.3.0 supafunc-0.3.3 websockets-12.0\n"
          ]
        }
      ],
      "source": [
        "!pip install supabase==2.3.0 fastapi==0.104.1"
      ]
    },
    {
      "cell_type": "code",
      "source": [
        "from fastapi import HTTPException, Body, Header, Request, Depends"
      ],
      "metadata": {
        "id": "NUVQpAMTp42G"
      },
      "execution_count": 2,
      "outputs": []
    },
    {
      "cell_type": "code",
      "source": [
        "!pip install python-dotenv pydantic"
      ],
      "metadata": {
        "colab": {
          "base_uri": "https://localhost:8080/"
        },
        "id": "oW2Kh2e3smWa",
        "outputId": "d69e4bf6-a641-4639-dd92-5452bb04ae39"
      },
      "execution_count": 4,
      "outputs": [
        {
          "output_type": "stream",
          "name": "stdout",
          "text": [
            "Collecting python-dotenv\n",
            "  Downloading python_dotenv-1.0.1-py3-none-any.whl (19 kB)\n",
            "Requirement already satisfied: pydantic in /usr/local/lib/python3.10/dist-packages (2.7.1)\n",
            "Requirement already satisfied: annotated-types>=0.4.0 in /usr/local/lib/python3.10/dist-packages (from pydantic) (0.6.0)\n",
            "Requirement already satisfied: pydantic-core==2.18.2 in /usr/local/lib/python3.10/dist-packages (from pydantic) (2.18.2)\n",
            "Requirement already satisfied: typing-extensions>=4.6.1 in /usr/local/lib/python3.10/dist-packages (from pydantic) (4.11.0)\n",
            "Installing collected packages: python-dotenv\n",
            "Successfully installed python-dotenv-1.0.1\n"
          ]
        }
      ]
    },
    {
      "cell_type": "code",
      "source": [
        "!pip install pydantic-settings==2.1.0"
      ],
      "metadata": {
        "colab": {
          "base_uri": "https://localhost:8080/"
        },
        "id": "cZhyN__bs-bs",
        "outputId": "8d9c49d3-3b0a-4dc8-e789-dc5387a387dc"
      },
      "execution_count": 6,
      "outputs": [
        {
          "output_type": "stream",
          "name": "stdout",
          "text": [
            "Collecting pydantic-settings==2.1.0\n",
            "  Downloading pydantic_settings-2.1.0-py3-none-any.whl (11 kB)\n",
            "Requirement already satisfied: pydantic>=2.3.0 in /usr/local/lib/python3.10/dist-packages (from pydantic-settings==2.1.0) (2.7.1)\n",
            "Requirement already satisfied: python-dotenv>=0.21.0 in /usr/local/lib/python3.10/dist-packages (from pydantic-settings==2.1.0) (1.0.1)\n",
            "Requirement already satisfied: annotated-types>=0.4.0 in /usr/local/lib/python3.10/dist-packages (from pydantic>=2.3.0->pydantic-settings==2.1.0) (0.6.0)\n",
            "Requirement already satisfied: pydantic-core==2.18.2 in /usr/local/lib/python3.10/dist-packages (from pydantic>=2.3.0->pydantic-settings==2.1.0) (2.18.2)\n",
            "Requirement already satisfied: typing-extensions>=4.6.1 in /usr/local/lib/python3.10/dist-packages (from pydantic>=2.3.0->pydantic-settings==2.1.0) (4.11.0)\n",
            "Installing collected packages: pydantic-settings\n",
            "Successfully installed pydantic-settings-2.1.0\n"
          ]
        }
      ]
    },
    {
      "cell_type": "code",
      "source": [
        "from pydantic_settings import BaseSettings\n",
        "from dotenv import load_dotenv\n",
        "from supabase import create_client\n",
        "from functools import lru_cache\n",
        "import os\n",
        "from google.colab import userdata\n",
        "load_dotenv()\n",
        "\n",
        "\n",
        "# Settings\n",
        "# class Keys(BaseSettings):\n",
        "#     SUPABASE_ANON_KEY: str\n",
        "#     SUPABASE_SERVICE_KEY: str\n",
        "#     SUPABASE_URL: str\n",
        "#     Vector_DB_CONNECTION: str\n",
        "#     VIBE_GUEST_KEY: str\n",
        "#     SEARCH_PRODUCTS_URL: str\n",
        "#     FILTER_SEARCH_URL: str\n",
        "\n",
        "#     class Config:\n",
        "#         env_file = \".env\"\n",
        "\n",
        "\n",
        "@lru_cache(maxsize=1)\n",
        "class Supabase_Settings(BaseSettings):\n",
        "\n",
        "    # keys: BaseSettings = Keys()\n",
        "\n",
        "    SUPABASE_URL: str = userdata.get(\"SUPABASE_URL\")\n",
        "    SUPABASE_ANON_KEY: str = userdata.get(\"SUPABASE_ANON_KEY\")\n",
        "    SUPABASE_SERVICE_KEY: str = userdata.get(\"SUPABASE_SERVICE_KEY\")\n",
        "\n",
        "\n",
        "\n",
        "@lru_cache(maxsize=1)\n",
        "class Supabase_Clients:\n",
        "    values = Supabase_Settings()\n",
        "\n",
        "    # Depreciated\n",
        "    # vecs.collection.Collection = lambda *args, **kwargs: CustomCollection(*args, **kwargs)\n",
        "    # vx = vecs.create_client(values.Vector_DB_CONNECTION)\n",
        "    # vector_table = vx.get_or_create_collection(name=\"ProductEmbeddings\", dimension=512)\n",
        "\n",
        "    anon_supabase = create_client(values.SUPABASE_URL, values.SUPABASE_ANON_KEY)\n",
        "    service_supabase = create_client(values.SUPABASE_URL, values.SUPABASE_SERVICE_KEY)\n"
      ],
      "metadata": {
        "id": "tUi3isbBpuQ2"
      },
      "execution_count": 8,
      "outputs": []
    },
    {
      "cell_type": "code",
      "source": [
        "def AuthUser_Validator(apitoken: str):\n",
        "    supabase_clients = Supabase_Clients()\n",
        "    settings = Supabase_Settings()\n",
        "    supabase = supabase_clients.anon_supabase\n",
        "    try:\n",
        "        user = supabase.auth.get_user(apitoken)\n",
        "        print(user.user.id)\n",
        "        return str(user.user.id)\n",
        "    except Exception as e:\n",
        "        print(\"Exceptional error\")\n",
        "        if apitoken == settings.SUPABASE_ANON_KEY:\n",
        "            return \"Exceptional error\"\n",
        "            raise HTTPException(\n",
        "                status_code=401,\n",
        "                detail=f\"invalid Api Token: unable to parse or verify signature, signing method (alg) is unavailable.\",\n",
        "            )"
      ],
      "metadata": {
        "id": "8iFudU_Wpuyb"
      },
      "execution_count": 24,
      "outputs": []
    },
    {
      "cell_type": "code",
      "source": [
        "token_1 = \"eyJhbGciOiJIUzI1NiIsImtpZCI6IkJQalV4SEMzNUg4NjBDdlgiLCJ0eXAiOiJKV1QifQ.eyJhdWQiOiJhdXRoZW50aWNhdGVkIiwiZXhwIjoxNzE0NDc5MTAyLCJpYXQiOjE3MTQ0NzU1MDIsImlzcyI6Imh0dHBzOi8vZWFlb2t5ZWZzZGZhbXdxcXpma28uc3VwYWJhc2UuY28vYXV0aC92MSIsInN1YiI6IjU2YWU0MGFjLTAxOGMtNGQ5Yi05MzAyLWQyZjI0YmQzYjcxMyIsImVtYWlsIjoieWFzaG1ha2FuLndvcmtAZ21haWwuY29tIiwicGhvbmUiOiIiLCJhcHBfbWV0YWRhdGEiOnsicHJvdmlkZXIiOiJnb29nbGUiLCJwcm92aWRlcnMiOlsiZ29vZ2xlIl19LCJ1c2VyX21ldGFkYXRhIjp7ImF2YXRhcl91cmwiOiJodHRwczovL2xoMy5nb29nbGV1c2VyY29udGVudC5jb20vYS9BQ2c4b2NLRWVIYXpuRVhrQXUxZXJEZmtQLTZnclhVekl2N2VRcHlpazROcUVyVkRqZ0dLZ09rPXM5Ni1jIiwiZW1haWwiOiJ5YXNobWFrYW4ud29ya0BnbWFpbC5jb20iLCJlbWFpbF92ZXJpZmllZCI6dHJ1ZSwiZnVsbF9uYW1lIjoiWWFzaCBNYWthbiIsImlzcyI6Imh0dHBzOi8vYWNjb3VudHMuZ29vZ2xlLmNvbSIsIm5hbWUiOiJZYXNoIE1ha2FuIiwicGhvbmVfdmVyaWZpZWQiOmZhbHNlLCJwaWN0dXJlIjoiaHR0cHM6Ly9saDMuZ29vZ2xldXNlcmNvbnRlbnQuY29tL2EvQUNnOG9jS0VlSGF6bkVYa0F1MWVyRGZrUC02Z3JYVXpJdjdlUXB5aWs0TnFFclZEamdHS2dPaz1zOTYtYyIsInByb3ZpZGVyX2lkIjoiMTA1MjIzNjI3MjE0MzUxMzQ5ODA2Iiwic3ViIjoiMTA1MjIzNjI3MjE0MzUxMzQ5ODA2In0sInJvbGUiOiJhdXRoZW50aWNhdGVkIiwiYWFsIjoiYWFsMSIsImFtciI6W3sibWV0aG9kIjoib2F1dGgiLCJ0aW1lc3RhbXAiOjE3MTQxMDczODh9XSwic2Vzc2lvbl9pZCI6ImZjN2VjYTExLWVkNjMtNDQwOC1hNTFkLWM1OTM4NDAxZDQ1YiIsImlzX2Fub255bW91cyI6ZmFsc2V9.dBL__fuTuQSYa1d3GQHXo_Th_2upxaPUg_RbSoYNS70\""
      ],
      "metadata": {
        "id": "oWRqgSRYxDKL"
      },
      "execution_count": 25,
      "outputs": []
    },
    {
      "cell_type": "code",
      "source": [
        "AuthUser_Validator(token_1)"
      ],
      "metadata": {
        "colab": {
          "base_uri": "https://localhost:8080/"
        },
        "id": "UcJT_llIw8d5",
        "outputId": "24178091-9a6e-4e70-b8da-8d244d48c5ab"
      },
      "execution_count": 28,
      "outputs": [
        {
          "output_type": "stream",
          "name": "stdout",
          "text": [
            "Exceptional error\n"
          ]
        }
      ]
    },
    {
      "cell_type": "code",
      "source": [],
      "metadata": {
        "id": "6oHc6hxVxTYZ"
      },
      "execution_count": null,
      "outputs": []
    }
  ]
}